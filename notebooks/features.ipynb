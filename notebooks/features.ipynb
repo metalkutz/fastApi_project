{
 "cells": [
  {
   "cell_type": "markdown",
   "id": "6409aa6b",
   "metadata": {},
   "source": [
    "# Feature Analysis"
   ]
  },
  {
   "cell_type": "code",
   "execution_count": 2,
   "id": "14a725ee",
   "metadata": {},
   "outputs": [],
   "source": [
    "import pandas as pd\n",
    "import numpy as np\n",
    "\n",
    "# Load the dataset\n",
    "df = pd.read_csv('../data/penguins.csv')\n",
    "df = df.dropna()\n"
   ]
  },
  {
   "cell_type": "markdown",
   "id": "c6e8cd41",
   "metadata": {},
   "source": [
    "## categorical columns"
   ]
  },
  {
   "cell_type": "code",
   "execution_count": 4,
   "id": "716c1234",
   "metadata": {},
   "outputs": [
    {
     "name": "stdout",
     "output_type": "stream",
     "text": [
      "<class 'pandas.core.frame.DataFrame'>\n",
      "Index: 337 entries, 0 to 354\n",
      "Data columns (total 7 columns):\n",
      " #   Column             Non-Null Count  Dtype   \n",
      "---  ------             --------------  -----   \n",
      " 0   species            337 non-null    category\n",
      " 1   island             337 non-null    category\n",
      " 2   bill_length_mm     337 non-null    float64 \n",
      " 3   bill_depth_mm      337 non-null    float64 \n",
      " 4   flipper_length_mm  337 non-null    float64 \n",
      " 5   body_mass_g        337 non-null    float64 \n",
      " 6   sex                337 non-null    category\n",
      "dtypes: category(3), float64(4)\n",
      "memory usage: 14.5 KB\n"
     ]
    },
    {
     "data": {
      "application/vnd.microsoft.datawrangler.viewer.v0+json": {
       "columns": [
        {
         "name": "index",
         "rawType": "int64",
         "type": "integer"
        },
        {
         "name": "species",
         "rawType": "category",
         "type": "unknown"
        },
        {
         "name": "island",
         "rawType": "category",
         "type": "unknown"
        },
        {
         "name": "bill_length_mm",
         "rawType": "float64",
         "type": "float"
        },
        {
         "name": "bill_depth_mm",
         "rawType": "float64",
         "type": "float"
        },
        {
         "name": "flipper_length_mm",
         "rawType": "float64",
         "type": "float"
        },
        {
         "name": "body_mass_g",
         "rawType": "float64",
         "type": "float"
        },
        {
         "name": "sex",
         "rawType": "category",
         "type": "unknown"
        }
       ],
       "ref": "c087e8eb-92ef-4b7c-8028-1d95eae94e75",
       "rows": [
        [
         "0",
         "Adelie",
         "Torgersen",
         "39.1",
         "18.7",
         "181.0",
         "3750.0",
         "Male"
        ],
        [
         "1",
         "Adelie",
         "Torgersen",
         "39.5",
         "17.4",
         "186.0",
         "3800.0",
         "Female"
        ],
        [
         "2",
         "Adelie",
         "Torgersen",
         "40.3",
         "18.0",
         "195.0",
         "3250.0",
         "Female"
        ],
        [
         "5",
         "Adelie",
         "Torgersen",
         "36.7",
         "19.3",
         "193.0",
         "3450.0",
         "Female"
        ],
        [
         "6",
         "Adelie",
         "Torgersen",
         "39.3",
         "20.6",
         "190.0",
         "3650.0",
         "Male"
        ]
       ],
       "shape": {
        "columns": 7,
        "rows": 5
       }
      },
      "text/html": [
       "<div>\n",
       "<style scoped>\n",
       "    .dataframe tbody tr th:only-of-type {\n",
       "        vertical-align: middle;\n",
       "    }\n",
       "\n",
       "    .dataframe tbody tr th {\n",
       "        vertical-align: top;\n",
       "    }\n",
       "\n",
       "    .dataframe thead th {\n",
       "        text-align: right;\n",
       "    }\n",
       "</style>\n",
       "<table border=\"1\" class=\"dataframe\">\n",
       "  <thead>\n",
       "    <tr style=\"text-align: right;\">\n",
       "      <th></th>\n",
       "      <th>species</th>\n",
       "      <th>island</th>\n",
       "      <th>bill_length_mm</th>\n",
       "      <th>bill_depth_mm</th>\n",
       "      <th>flipper_length_mm</th>\n",
       "      <th>body_mass_g</th>\n",
       "      <th>sex</th>\n",
       "    </tr>\n",
       "  </thead>\n",
       "  <tbody>\n",
       "    <tr>\n",
       "      <th>0</th>\n",
       "      <td>Adelie</td>\n",
       "      <td>Torgersen</td>\n",
       "      <td>39.1</td>\n",
       "      <td>18.7</td>\n",
       "      <td>181.0</td>\n",
       "      <td>3750.0</td>\n",
       "      <td>Male</td>\n",
       "    </tr>\n",
       "    <tr>\n",
       "      <th>1</th>\n",
       "      <td>Adelie</td>\n",
       "      <td>Torgersen</td>\n",
       "      <td>39.5</td>\n",
       "      <td>17.4</td>\n",
       "      <td>186.0</td>\n",
       "      <td>3800.0</td>\n",
       "      <td>Female</td>\n",
       "    </tr>\n",
       "    <tr>\n",
       "      <th>2</th>\n",
       "      <td>Adelie</td>\n",
       "      <td>Torgersen</td>\n",
       "      <td>40.3</td>\n",
       "      <td>18.0</td>\n",
       "      <td>195.0</td>\n",
       "      <td>3250.0</td>\n",
       "      <td>Female</td>\n",
       "    </tr>\n",
       "    <tr>\n",
       "      <th>5</th>\n",
       "      <td>Adelie</td>\n",
       "      <td>Torgersen</td>\n",
       "      <td>36.7</td>\n",
       "      <td>19.3</td>\n",
       "      <td>193.0</td>\n",
       "      <td>3450.0</td>\n",
       "      <td>Female</td>\n",
       "    </tr>\n",
       "    <tr>\n",
       "      <th>6</th>\n",
       "      <td>Adelie</td>\n",
       "      <td>Torgersen</td>\n",
       "      <td>39.3</td>\n",
       "      <td>20.6</td>\n",
       "      <td>190.0</td>\n",
       "      <td>3650.0</td>\n",
       "      <td>Male</td>\n",
       "    </tr>\n",
       "  </tbody>\n",
       "</table>\n",
       "</div>"
      ],
      "text/plain": [
       "  species     island  bill_length_mm  bill_depth_mm  flipper_length_mm  \\\n",
       "0  Adelie  Torgersen            39.1           18.7              181.0   \n",
       "1  Adelie  Torgersen            39.5           17.4              186.0   \n",
       "2  Adelie  Torgersen            40.3           18.0              195.0   \n",
       "5  Adelie  Torgersen            36.7           19.3              193.0   \n",
       "6  Adelie  Torgersen            39.3           20.6              190.0   \n",
       "\n",
       "   body_mass_g     sex  \n",
       "0       3750.0    Male  \n",
       "1       3800.0  Female  \n",
       "2       3250.0  Female  \n",
       "5       3450.0  Female  \n",
       "6       3650.0    Male  "
      ]
     },
     "execution_count": 4,
     "metadata": {},
     "output_type": "execute_result"
    }
   ],
   "source": [
    "# let's transform the dataset\n",
    "df['species'] = df['species'].astype('category')\n",
    "df['island'] = df['island'].astype('category')\n",
    "df['sex'] = df['sex'].astype('category')\n",
    "df.info()\n",
    "# Display the first few rows of the dataset\n",
    "df.head()"
   ]
  },
  {
   "cell_type": "code",
   "execution_count": null,
   "id": "b5d9887d",
   "metadata": {},
   "outputs": [
    {
     "data": {
      "application/vnd.microsoft.datawrangler.viewer.v0+json": {
       "columns": [
        {
         "name": "index",
         "rawType": "int64",
         "type": "integer"
        },
        {
         "name": "species",
         "rawType": "int64",
         "type": "integer"
        },
        {
         "name": "island",
         "rawType": "int64",
         "type": "integer"
        },
        {
         "name": "bill_length_mm",
         "rawType": "float64",
         "type": "float"
        },
        {
         "name": "bill_depth_mm",
         "rawType": "float64",
         "type": "float"
        },
        {
         "name": "flipper_length_mm",
         "rawType": "float64",
         "type": "float"
        },
        {
         "name": "body_mass_g",
         "rawType": "float64",
         "type": "float"
        },
        {
         "name": "sex",
         "rawType": "int64",
         "type": "integer"
        }
       ],
       "ref": "945ea09d-672d-4cbb-818c-4e7f4201f67b",
       "rows": [
        [
         "0",
         "0",
         "2",
         "39.1",
         "18.7",
         "181.0",
         "3750.0",
         "1"
        ],
        [
         "1",
         "0",
         "2",
         "39.5",
         "17.4",
         "186.0",
         "3800.0",
         "0"
        ],
        [
         "2",
         "0",
         "2",
         "40.3",
         "18.0",
         "195.0",
         "3250.0",
         "0"
        ],
        [
         "5",
         "0",
         "2",
         "36.7",
         "19.3",
         "193.0",
         "3450.0",
         "0"
        ],
        [
         "6",
         "0",
         "2",
         "39.3",
         "20.6",
         "190.0",
         "3650.0",
         "1"
        ]
       ],
       "shape": {
        "columns": 7,
        "rows": 5
       }
      },
      "text/html": [
       "<div>\n",
       "<style scoped>\n",
       "    .dataframe tbody tr th:only-of-type {\n",
       "        vertical-align: middle;\n",
       "    }\n",
       "\n",
       "    .dataframe tbody tr th {\n",
       "        vertical-align: top;\n",
       "    }\n",
       "\n",
       "    .dataframe thead th {\n",
       "        text-align: right;\n",
       "    }\n",
       "</style>\n",
       "<table border=\"1\" class=\"dataframe\">\n",
       "  <thead>\n",
       "    <tr style=\"text-align: right;\">\n",
       "      <th></th>\n",
       "      <th>species</th>\n",
       "      <th>island</th>\n",
       "      <th>bill_length_mm</th>\n",
       "      <th>bill_depth_mm</th>\n",
       "      <th>flipper_length_mm</th>\n",
       "      <th>body_mass_g</th>\n",
       "      <th>sex</th>\n",
       "    </tr>\n",
       "  </thead>\n",
       "  <tbody>\n",
       "    <tr>\n",
       "      <th>0</th>\n",
       "      <td>0</td>\n",
       "      <td>2</td>\n",
       "      <td>39.1</td>\n",
       "      <td>18.7</td>\n",
       "      <td>181.0</td>\n",
       "      <td>3750.0</td>\n",
       "      <td>1</td>\n",
       "    </tr>\n",
       "    <tr>\n",
       "      <th>1</th>\n",
       "      <td>0</td>\n",
       "      <td>2</td>\n",
       "      <td>39.5</td>\n",
       "      <td>17.4</td>\n",
       "      <td>186.0</td>\n",
       "      <td>3800.0</td>\n",
       "      <td>0</td>\n",
       "    </tr>\n",
       "    <tr>\n",
       "      <th>2</th>\n",
       "      <td>0</td>\n",
       "      <td>2</td>\n",
       "      <td>40.3</td>\n",
       "      <td>18.0</td>\n",
       "      <td>195.0</td>\n",
       "      <td>3250.0</td>\n",
       "      <td>0</td>\n",
       "    </tr>\n",
       "    <tr>\n",
       "      <th>5</th>\n",
       "      <td>0</td>\n",
       "      <td>2</td>\n",
       "      <td>36.7</td>\n",
       "      <td>19.3</td>\n",
       "      <td>193.0</td>\n",
       "      <td>3450.0</td>\n",
       "      <td>0</td>\n",
       "    </tr>\n",
       "    <tr>\n",
       "      <th>6</th>\n",
       "      <td>0</td>\n",
       "      <td>2</td>\n",
       "      <td>39.3</td>\n",
       "      <td>20.6</td>\n",
       "      <td>190.0</td>\n",
       "      <td>3650.0</td>\n",
       "      <td>1</td>\n",
       "    </tr>\n",
       "  </tbody>\n",
       "</table>\n",
       "</div>"
      ],
      "text/plain": [
       "   species  island  bill_length_mm  bill_depth_mm  flipper_length_mm  \\\n",
       "0        0       2            39.1           18.7              181.0   \n",
       "1        0       2            39.5           17.4              186.0   \n",
       "2        0       2            40.3           18.0              195.0   \n",
       "5        0       2            36.7           19.3              193.0   \n",
       "6        0       2            39.3           20.6              190.0   \n",
       "\n",
       "   body_mass_g  sex  \n",
       "0       3750.0    1  \n",
       "1       3800.0    0  \n",
       "2       3250.0    0  \n",
       "5       3450.0    0  \n",
       "6       3650.0    1  "
      ]
     },
     "execution_count": 5,
     "metadata": {},
     "output_type": "execute_result"
    }
   ],
   "source": [
    "# transform categorical columns to numerical using sklearn's LabelEncoder\n",
    "from sklearn.preprocessing import LabelEncoder\n",
    "\n",
    "label_encoder = LabelEncoder()\n",
    "df['species'] = label_encoder.fit_transform(df['species'])\n",
    "df['island'] = label_encoder.fit_transform(df['island'])\n",
    "df['sex'] = label_encoder.fit_transform(df['sex']) \n",
    "# Display the first few rows of the dataset after transformation\n",
    "df.head()"
   ]
  },
  {
   "cell_type": "markdown",
   "id": "a8a22a0c",
   "metadata": {},
   "source": [
    "## Numerical columns"
   ]
  },
  {
   "cell_type": "code",
   "execution_count": null,
   "id": "e99768b4",
   "metadata": {},
   "outputs": [
    {
     "data": {
      "application/vnd.microsoft.datawrangler.viewer.v0+json": {
       "columns": [
        {
         "name": "index",
         "rawType": "int64",
         "type": "integer"
        },
        {
         "name": "species",
         "rawType": "int64",
         "type": "integer"
        },
        {
         "name": "island",
         "rawType": "int64",
         "type": "integer"
        },
        {
         "name": "bill_length_mm",
         "rawType": "float64",
         "type": "float"
        },
        {
         "name": "bill_depth_mm",
         "rawType": "float64",
         "type": "float"
        },
        {
         "name": "flipper_length_mm",
         "rawType": "float64",
         "type": "float"
        },
        {
         "name": "body_mass_g",
         "rawType": "float64",
         "type": "float"
        },
        {
         "name": "sex",
         "rawType": "int64",
         "type": "integer"
        }
       ],
       "ref": "b3bd7113-704d-45f9-9936-fe6cd81f43a0",
       "rows": [
        [
         "0",
         "0",
         "2",
         "-0.9021856986017609",
         "0.7860127941082244",
         "-1.4289205078632217",
         "-0.5700144945635544",
         "1"
        ],
        [
         "1",
         "0",
         "2",
         "-0.8286403235585116",
         "0.12277665177614978",
         "-1.0715313055848295",
         "-0.507968343185028",
         "0"
        ],
        [
         "2",
         "0",
         "2",
         "-0.681549573472013",
         "0.42888564054480016",
         "-0.4282307414837235",
         "-1.1904760083488186",
         "0"
        ],
        [
         "5",
         "0",
         "2",
         "-1.3434579488612581",
         "1.0921217828768748",
         "-0.5711864223950803",
         "-0.9422914028347129",
         "0"
        ],
        [
         "6",
         "0",
         "2",
         "-0.8654130110801369",
         "1.7553579252089495",
         "-0.7856199437621156",
         "-0.6941067973206072",
         "1"
        ]
       ],
       "shape": {
        "columns": 7,
        "rows": 5
       }
      },
      "text/html": [
       "<div>\n",
       "<style scoped>\n",
       "    .dataframe tbody tr th:only-of-type {\n",
       "        vertical-align: middle;\n",
       "    }\n",
       "\n",
       "    .dataframe tbody tr th {\n",
       "        vertical-align: top;\n",
       "    }\n",
       "\n",
       "    .dataframe thead th {\n",
       "        text-align: right;\n",
       "    }\n",
       "</style>\n",
       "<table border=\"1\" class=\"dataframe\">\n",
       "  <thead>\n",
       "    <tr style=\"text-align: right;\">\n",
       "      <th></th>\n",
       "      <th>species</th>\n",
       "      <th>island</th>\n",
       "      <th>bill_length_mm</th>\n",
       "      <th>bill_depth_mm</th>\n",
       "      <th>flipper_length_mm</th>\n",
       "      <th>body_mass_g</th>\n",
       "      <th>sex</th>\n",
       "    </tr>\n",
       "  </thead>\n",
       "  <tbody>\n",
       "    <tr>\n",
       "      <th>0</th>\n",
       "      <td>0</td>\n",
       "      <td>2</td>\n",
       "      <td>-0.902186</td>\n",
       "      <td>0.786013</td>\n",
       "      <td>-1.428921</td>\n",
       "      <td>-0.570014</td>\n",
       "      <td>1</td>\n",
       "    </tr>\n",
       "    <tr>\n",
       "      <th>1</th>\n",
       "      <td>0</td>\n",
       "      <td>2</td>\n",
       "      <td>-0.828640</td>\n",
       "      <td>0.122777</td>\n",
       "      <td>-1.071531</td>\n",
       "      <td>-0.507968</td>\n",
       "      <td>0</td>\n",
       "    </tr>\n",
       "    <tr>\n",
       "      <th>2</th>\n",
       "      <td>0</td>\n",
       "      <td>2</td>\n",
       "      <td>-0.681550</td>\n",
       "      <td>0.428886</td>\n",
       "      <td>-0.428231</td>\n",
       "      <td>-1.190476</td>\n",
       "      <td>0</td>\n",
       "    </tr>\n",
       "    <tr>\n",
       "      <th>5</th>\n",
       "      <td>0</td>\n",
       "      <td>2</td>\n",
       "      <td>-1.343458</td>\n",
       "      <td>1.092122</td>\n",
       "      <td>-0.571186</td>\n",
       "      <td>-0.942291</td>\n",
       "      <td>0</td>\n",
       "    </tr>\n",
       "    <tr>\n",
       "      <th>6</th>\n",
       "      <td>0</td>\n",
       "      <td>2</td>\n",
       "      <td>-0.865413</td>\n",
       "      <td>1.755358</td>\n",
       "      <td>-0.785620</td>\n",
       "      <td>-0.694107</td>\n",
       "      <td>1</td>\n",
       "    </tr>\n",
       "  </tbody>\n",
       "</table>\n",
       "</div>"
      ],
      "text/plain": [
       "   species  island  bill_length_mm  bill_depth_mm  flipper_length_mm  \\\n",
       "0        0       2       -0.902186       0.786013          -1.428921   \n",
       "1        0       2       -0.828640       0.122777          -1.071531   \n",
       "2        0       2       -0.681550       0.428886          -0.428231   \n",
       "5        0       2       -1.343458       1.092122          -0.571186   \n",
       "6        0       2       -0.865413       1.755358          -0.785620   \n",
       "\n",
       "   body_mass_g  sex  \n",
       "0    -0.570014    1  \n",
       "1    -0.507968    0  \n",
       "2    -1.190476    0  \n",
       "5    -0.942291    0  \n",
       "6    -0.694107    1  "
      ]
     },
     "execution_count": 7,
     "metadata": {},
     "output_type": "execute_result"
    }
   ],
   "source": [
    "# standardize numerical columns\n",
    "from sklearn.preprocessing import StandardScaler\n",
    "\n",
    "scaler = StandardScaler()\n",
    "numerical_cols = ['bill_length_mm', 'bill_depth_mm', 'flipper_length_mm', 'body_mass_g']\n",
    "df[numerical_cols] = scaler.fit_transform(df[numerical_cols])\n",
    "# Display the first few rows of the dataset after standardization\n",
    "df.head()"
   ]
  },
  {
   "cell_type": "code",
   "execution_count": 8,
   "id": "f65943dc",
   "metadata": {},
   "outputs": [
    {
     "data": {
      "application/vnd.microsoft.datawrangler.viewer.v0+json": {
       "columns": [
        {
         "name": "index",
         "rawType": "object",
         "type": "string"
        },
        {
         "name": "species",
         "rawType": "float64",
         "type": "float"
        },
        {
         "name": "island",
         "rawType": "float64",
         "type": "float"
        },
        {
         "name": "bill_length_mm",
         "rawType": "float64",
         "type": "float"
        },
        {
         "name": "bill_depth_mm",
         "rawType": "float64",
         "type": "float"
        },
        {
         "name": "flipper_length_mm",
         "rawType": "float64",
         "type": "float"
        },
        {
         "name": "body_mass_g",
         "rawType": "float64",
         "type": "float"
        },
        {
         "name": "sex",
         "rawType": "float64",
         "type": "float"
        }
       ],
       "ref": "659bf1cb-65f8-4dab-b4c0-48e9cfd58233",
       "rows": [
        [
         "count",
         "337.0",
         "337.0",
         "337.0",
         "337.0",
         "337.0",
         "337.0",
         "337.0"
        ],
        [
         "mean",
         "0.9228486646884273",
         "0.6468842729970327",
         "8.012054587205877e-16",
         "7.590367503668726e-16",
         "-8.433741670743029e-17",
         "-1.6867483341486058e-16",
         "0.5014836795252225"
        ],
        [
         "std",
         "0.8897465952815868",
         "0.7133489689123789",
         "1.0014869896689576",
         "1.0014869896689573",
         "1.0014869896689576",
         "1.0014869896689573",
         "0.5007412902513745"
        ],
        [
         "min",
         "0.0",
         "0.0",
         "-2.1892297618586287",
         "-2.071004434399172",
         "-2.0722210719643277",
         "-1.872983673512609",
         "0.0"
        ],
        [
         "25%",
         "0.0",
         "0.0",
         "-0.8286403235585116",
         "-0.7955503145297986",
         "-0.7856199437621156",
         "-0.8181991000776601",
         "0.0"
        ],
        [
         "50%",
         "1.0",
         "1.0",
         "0.16422223952535756",
         "0.07175848698137594",
         "-0.2852750605723666",
         "-0.19773758629239593",
         "1.0"
        ],
        [
         "75%",
         "2.0",
         "1.0",
         "0.826130614914604",
         "0.7860127941082244",
         "0.8583703867184884",
         "0.7329546843855003",
         "1.0"
        ],
        [
         "max",
         "2.0",
         "2.0",
         "2.8670147723647803",
         "2.2145214083619233",
         "2.1449715149207003",
         "2.5943392257412925",
         "1.0"
        ]
       ],
       "shape": {
        "columns": 7,
        "rows": 8
       }
      },
      "text/html": [
       "<div>\n",
       "<style scoped>\n",
       "    .dataframe tbody tr th:only-of-type {\n",
       "        vertical-align: middle;\n",
       "    }\n",
       "\n",
       "    .dataframe tbody tr th {\n",
       "        vertical-align: top;\n",
       "    }\n",
       "\n",
       "    .dataframe thead th {\n",
       "        text-align: right;\n",
       "    }\n",
       "</style>\n",
       "<table border=\"1\" class=\"dataframe\">\n",
       "  <thead>\n",
       "    <tr style=\"text-align: right;\">\n",
       "      <th></th>\n",
       "      <th>species</th>\n",
       "      <th>island</th>\n",
       "      <th>bill_length_mm</th>\n",
       "      <th>bill_depth_mm</th>\n",
       "      <th>flipper_length_mm</th>\n",
       "      <th>body_mass_g</th>\n",
       "      <th>sex</th>\n",
       "    </tr>\n",
       "  </thead>\n",
       "  <tbody>\n",
       "    <tr>\n",
       "      <th>count</th>\n",
       "      <td>337.000000</td>\n",
       "      <td>337.000000</td>\n",
       "      <td>3.370000e+02</td>\n",
       "      <td>3.370000e+02</td>\n",
       "      <td>3.370000e+02</td>\n",
       "      <td>3.370000e+02</td>\n",
       "      <td>337.000000</td>\n",
       "    </tr>\n",
       "    <tr>\n",
       "      <th>mean</th>\n",
       "      <td>0.922849</td>\n",
       "      <td>0.646884</td>\n",
       "      <td>8.012055e-16</td>\n",
       "      <td>7.590368e-16</td>\n",
       "      <td>-8.433742e-17</td>\n",
       "      <td>-1.686748e-16</td>\n",
       "      <td>0.501484</td>\n",
       "    </tr>\n",
       "    <tr>\n",
       "      <th>std</th>\n",
       "      <td>0.889747</td>\n",
       "      <td>0.713349</td>\n",
       "      <td>1.001487e+00</td>\n",
       "      <td>1.001487e+00</td>\n",
       "      <td>1.001487e+00</td>\n",
       "      <td>1.001487e+00</td>\n",
       "      <td>0.500741</td>\n",
       "    </tr>\n",
       "    <tr>\n",
       "      <th>min</th>\n",
       "      <td>0.000000</td>\n",
       "      <td>0.000000</td>\n",
       "      <td>-2.189230e+00</td>\n",
       "      <td>-2.071004e+00</td>\n",
       "      <td>-2.072221e+00</td>\n",
       "      <td>-1.872984e+00</td>\n",
       "      <td>0.000000</td>\n",
       "    </tr>\n",
       "    <tr>\n",
       "      <th>25%</th>\n",
       "      <td>0.000000</td>\n",
       "      <td>0.000000</td>\n",
       "      <td>-8.286403e-01</td>\n",
       "      <td>-7.955503e-01</td>\n",
       "      <td>-7.856199e-01</td>\n",
       "      <td>-8.181991e-01</td>\n",
       "      <td>0.000000</td>\n",
       "    </tr>\n",
       "    <tr>\n",
       "      <th>50%</th>\n",
       "      <td>1.000000</td>\n",
       "      <td>1.000000</td>\n",
       "      <td>1.642222e-01</td>\n",
       "      <td>7.175849e-02</td>\n",
       "      <td>-2.852751e-01</td>\n",
       "      <td>-1.977376e-01</td>\n",
       "      <td>1.000000</td>\n",
       "    </tr>\n",
       "    <tr>\n",
       "      <th>75%</th>\n",
       "      <td>2.000000</td>\n",
       "      <td>1.000000</td>\n",
       "      <td>8.261306e-01</td>\n",
       "      <td>7.860128e-01</td>\n",
       "      <td>8.583704e-01</td>\n",
       "      <td>7.329547e-01</td>\n",
       "      <td>1.000000</td>\n",
       "    </tr>\n",
       "    <tr>\n",
       "      <th>max</th>\n",
       "      <td>2.000000</td>\n",
       "      <td>2.000000</td>\n",
       "      <td>2.867015e+00</td>\n",
       "      <td>2.214521e+00</td>\n",
       "      <td>2.144972e+00</td>\n",
       "      <td>2.594339e+00</td>\n",
       "      <td>1.000000</td>\n",
       "    </tr>\n",
       "  </tbody>\n",
       "</table>\n",
       "</div>"
      ],
      "text/plain": [
       "          species      island  bill_length_mm  bill_depth_mm  \\\n",
       "count  337.000000  337.000000    3.370000e+02   3.370000e+02   \n",
       "mean     0.922849    0.646884    8.012055e-16   7.590368e-16   \n",
       "std      0.889747    0.713349    1.001487e+00   1.001487e+00   \n",
       "min      0.000000    0.000000   -2.189230e+00  -2.071004e+00   \n",
       "25%      0.000000    0.000000   -8.286403e-01  -7.955503e-01   \n",
       "50%      1.000000    1.000000    1.642222e-01   7.175849e-02   \n",
       "75%      2.000000    1.000000    8.261306e-01   7.860128e-01   \n",
       "max      2.000000    2.000000    2.867015e+00   2.214521e+00   \n",
       "\n",
       "       flipper_length_mm   body_mass_g         sex  \n",
       "count       3.370000e+02  3.370000e+02  337.000000  \n",
       "mean       -8.433742e-17 -1.686748e-16    0.501484  \n",
       "std         1.001487e+00  1.001487e+00    0.500741  \n",
       "min        -2.072221e+00 -1.872984e+00    0.000000  \n",
       "25%        -7.856199e-01 -8.181991e-01    0.000000  \n",
       "50%        -2.852751e-01 -1.977376e-01    1.000000  \n",
       "75%         8.583704e-01  7.329547e-01    1.000000  \n",
       "max         2.144972e+00  2.594339e+00    1.000000  "
      ]
     },
     "execution_count": 8,
     "metadata": {},
     "output_type": "execute_result"
    }
   ],
   "source": [
    "df.describe()"
   ]
  }
 ],
 "metadata": {
  "kernelspec": {
   "display_name": "ds",
   "language": "python",
   "name": "python3"
  },
  "language_info": {
   "codemirror_mode": {
    "name": "ipython",
    "version": 3
   },
   "file_extension": ".py",
   "mimetype": "text/x-python",
   "name": "python",
   "nbconvert_exporter": "python",
   "pygments_lexer": "ipython3",
   "version": "3.10.18"
  }
 },
 "nbformat": 4,
 "nbformat_minor": 5
}
